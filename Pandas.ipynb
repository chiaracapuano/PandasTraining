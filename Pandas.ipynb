{
 "nbformat": 4,
 "nbformat_minor": 0,
 "metadata": {
  "colab": {
   "name": "Pandas.ipynb",
   "provenance": []
  },
  "kernelspec": {
   "display_name": "Python 3",
   "language": "python",
   "name": "python3"
  },
  "language_info": {
   "codemirror_mode": {
    "name": "ipython",
    "version": 3
   },
   "file_extension": ".py",
   "mimetype": "text/x-python",
   "name": "python",
   "nbconvert_exporter": "python",
   "pygments_lexer": "ipython3",
   "version": "3.7.4"
  }
 },
 "cells": [
  {
   "cell_type": "markdown",
   "metadata": {
    "colab_type": "text",
    "id": "-4gr26tJFbg6"
   },
   "source": [
    "# Pandas and Exploratory Data Analysis (EDA)"
   ]
  },
  {
   "cell_type": "markdown",
   "metadata": {
    "colab_type": "text",
    "id": "nG1qwwpVFbg8"
   },
   "source": [
    "It's important that you hone your Pandas and exploratory data analysis (EDA) skills before the session starts. If you are having trouble, Google is your best friend! If you are still having problems, ask your fellow Fellows for help through the Platform. Good luck!\n",
    "<br> <br>\n",
    "Begin by downloading the Crunchbase dataset on start-up investments, which can be found [here](https://drive.google.com/file/d/1zsjN1tGWdXPb4wf4eTM62usMciSV-0sX/view)."
   ]
  },
  {
   "cell_type": "markdown",
   "metadata": {
    "colab_type": "text",
    "id": "GwK-b_KMFbg9"
   },
   "source": [
    "**Exercise:**\n",
    "The first thing we should do is import the Pandas library. It will probably be helpful to give this library an alias, too. Then, import the dataset and give it a name!"
   ]
  },
  {
   "cell_type": "code",
   "metadata": {
    "colab_type": "code",
    "id": "1mXvrnK2Fbg_",
    "scrolled": true,
    "colab": {
     "base_uri": "https://localhost:8080/",
     "height": 494
    },
    "outputId": "fde579a2-ac5c-4ce8-9b1d-2ee8248d0158"
   },
   "source": [
    "import pandas as pd\n",
    "df = pd.read_csv(\"./Crunchbase_Startup_Investment_Data.csv\")"
   ],
   "execution_count": 1,
   "outputs": [
    {
     "ename": "UnicodeDecodeError",
     "evalue": "'utf-8' codec can't decode byte 0xf3 in position 7: invalid continuation byte",
     "output_type": "error",
     "traceback": [
      "\u001B[0;31m---------------------------------------------------------------------------\u001B[0m",
      "\u001B[0;31mUnicodeDecodeError\u001B[0m                        Traceback (most recent call last)",
      "\u001B[0;32mpandas/_libs/parsers.pyx\u001B[0m in \u001B[0;36mpandas._libs.parsers.TextReader._convert_tokens\u001B[0;34m()\u001B[0m\n",
      "\u001B[0;32mpandas/_libs/parsers.pyx\u001B[0m in \u001B[0;36mpandas._libs.parsers.TextReader._convert_with_dtype\u001B[0;34m()\u001B[0m\n",
      "\u001B[0;32mpandas/_libs/parsers.pyx\u001B[0m in \u001B[0;36mpandas._libs.parsers.TextReader._string_convert\u001B[0;34m()\u001B[0m\n",
      "\u001B[0;32mpandas/_libs/parsers.pyx\u001B[0m in \u001B[0;36mpandas._libs.parsers._string_box_utf8\u001B[0;34m()\u001B[0m\n",
      "\u001B[0;31mUnicodeDecodeError\u001B[0m: 'utf-8' codec can't decode byte 0xf3 in position 7: invalid continuation byte",
      "\nDuring handling of the above exception, another exception occurred:\n",
      "\u001B[0;31mUnicodeDecodeError\u001B[0m                        Traceback (most recent call last)",
      "\u001B[0;32m<ipython-input-1-3fb31beb5ac0>\u001B[0m in \u001B[0;36m<module>\u001B[0;34m\u001B[0m\n\u001B[1;32m      1\u001B[0m \u001B[0;32mimport\u001B[0m \u001B[0mpandas\u001B[0m \u001B[0;32mas\u001B[0m \u001B[0mpd\u001B[0m\u001B[0;34m\u001B[0m\u001B[0;34m\u001B[0m\u001B[0m\n\u001B[0;32m----> 2\u001B[0;31m \u001B[0mdf\u001B[0m \u001B[0;34m=\u001B[0m \u001B[0mpd\u001B[0m\u001B[0;34m.\u001B[0m\u001B[0mread_csv\u001B[0m\u001B[0;34m(\u001B[0m\u001B[0;34m\"./Crunchbase_Startup_Investment_Data.csv\"\u001B[0m\u001B[0;34m)\u001B[0m\u001B[0;34m\u001B[0m\u001B[0;34m\u001B[0m\u001B[0m\n\u001B[0m\u001B[1;32m      3\u001B[0m \u001B[0;34m\u001B[0m\u001B[0m\n",
      "\u001B[0;32m/usr/local/lib/python3.7/site-packages/pandas/io/parsers.py\u001B[0m in \u001B[0;36mparser_f\u001B[0;34m(filepath_or_buffer, sep, delimiter, header, names, index_col, usecols, squeeze, prefix, mangle_dupe_cols, dtype, engine, converters, true_values, false_values, skipinitialspace, skiprows, skipfooter, nrows, na_values, keep_default_na, na_filter, verbose, skip_blank_lines, parse_dates, infer_datetime_format, keep_date_col, date_parser, dayfirst, cache_dates, iterator, chunksize, compression, thousands, decimal, lineterminator, quotechar, quoting, doublequote, escapechar, comment, encoding, dialect, error_bad_lines, warn_bad_lines, delim_whitespace, low_memory, memory_map, float_precision)\u001B[0m\n\u001B[1;32m    674\u001B[0m         )\n\u001B[1;32m    675\u001B[0m \u001B[0;34m\u001B[0m\u001B[0m\n\u001B[0;32m--> 676\u001B[0;31m         \u001B[0;32mreturn\u001B[0m \u001B[0m_read\u001B[0m\u001B[0;34m(\u001B[0m\u001B[0mfilepath_or_buffer\u001B[0m\u001B[0;34m,\u001B[0m \u001B[0mkwds\u001B[0m\u001B[0;34m)\u001B[0m\u001B[0;34m\u001B[0m\u001B[0;34m\u001B[0m\u001B[0m\n\u001B[0m\u001B[1;32m    677\u001B[0m \u001B[0;34m\u001B[0m\u001B[0m\n\u001B[1;32m    678\u001B[0m     \u001B[0mparser_f\u001B[0m\u001B[0;34m.\u001B[0m\u001B[0m__name__\u001B[0m \u001B[0;34m=\u001B[0m \u001B[0mname\u001B[0m\u001B[0;34m\u001B[0m\u001B[0;34m\u001B[0m\u001B[0m\n",
      "\u001B[0;32m/usr/local/lib/python3.7/site-packages/pandas/io/parsers.py\u001B[0m in \u001B[0;36m_read\u001B[0;34m(filepath_or_buffer, kwds)\u001B[0m\n\u001B[1;32m    452\u001B[0m \u001B[0;34m\u001B[0m\u001B[0m\n\u001B[1;32m    453\u001B[0m     \u001B[0;32mtry\u001B[0m\u001B[0;34m:\u001B[0m\u001B[0;34m\u001B[0m\u001B[0;34m\u001B[0m\u001B[0m\n\u001B[0;32m--> 454\u001B[0;31m         \u001B[0mdata\u001B[0m \u001B[0;34m=\u001B[0m \u001B[0mparser\u001B[0m\u001B[0;34m.\u001B[0m\u001B[0mread\u001B[0m\u001B[0;34m(\u001B[0m\u001B[0mnrows\u001B[0m\u001B[0;34m)\u001B[0m\u001B[0;34m\u001B[0m\u001B[0;34m\u001B[0m\u001B[0m\n\u001B[0m\u001B[1;32m    455\u001B[0m     \u001B[0;32mfinally\u001B[0m\u001B[0;34m:\u001B[0m\u001B[0;34m\u001B[0m\u001B[0;34m\u001B[0m\u001B[0m\n\u001B[1;32m    456\u001B[0m         \u001B[0mparser\u001B[0m\u001B[0;34m.\u001B[0m\u001B[0mclose\u001B[0m\u001B[0;34m(\u001B[0m\u001B[0;34m)\u001B[0m\u001B[0;34m\u001B[0m\u001B[0;34m\u001B[0m\u001B[0m\n",
      "\u001B[0;32m/usr/local/lib/python3.7/site-packages/pandas/io/parsers.py\u001B[0m in \u001B[0;36mread\u001B[0;34m(self, nrows)\u001B[0m\n\u001B[1;32m   1131\u001B[0m     \u001B[0;32mdef\u001B[0m \u001B[0mread\u001B[0m\u001B[0;34m(\u001B[0m\u001B[0mself\u001B[0m\u001B[0;34m,\u001B[0m \u001B[0mnrows\u001B[0m\u001B[0;34m=\u001B[0m\u001B[0;32mNone\u001B[0m\u001B[0;34m)\u001B[0m\u001B[0;34m:\u001B[0m\u001B[0;34m\u001B[0m\u001B[0;34m\u001B[0m\u001B[0m\n\u001B[1;32m   1132\u001B[0m         \u001B[0mnrows\u001B[0m \u001B[0;34m=\u001B[0m \u001B[0m_validate_integer\u001B[0m\u001B[0;34m(\u001B[0m\u001B[0;34m\"nrows\"\u001B[0m\u001B[0;34m,\u001B[0m \u001B[0mnrows\u001B[0m\u001B[0;34m)\u001B[0m\u001B[0;34m\u001B[0m\u001B[0;34m\u001B[0m\u001B[0m\n\u001B[0;32m-> 1133\u001B[0;31m         \u001B[0mret\u001B[0m \u001B[0;34m=\u001B[0m \u001B[0mself\u001B[0m\u001B[0;34m.\u001B[0m\u001B[0m_engine\u001B[0m\u001B[0;34m.\u001B[0m\u001B[0mread\u001B[0m\u001B[0;34m(\u001B[0m\u001B[0mnrows\u001B[0m\u001B[0;34m)\u001B[0m\u001B[0;34m\u001B[0m\u001B[0;34m\u001B[0m\u001B[0m\n\u001B[0m\u001B[1;32m   1134\u001B[0m \u001B[0;34m\u001B[0m\u001B[0m\n\u001B[1;32m   1135\u001B[0m         \u001B[0;31m# May alter columns / col_dict\u001B[0m\u001B[0;34m\u001B[0m\u001B[0;34m\u001B[0m\u001B[0;34m\u001B[0m\u001B[0m\n",
      "\u001B[0;32m/usr/local/lib/python3.7/site-packages/pandas/io/parsers.py\u001B[0m in \u001B[0;36mread\u001B[0;34m(self, nrows)\u001B[0m\n\u001B[1;32m   2035\u001B[0m     \u001B[0;32mdef\u001B[0m \u001B[0mread\u001B[0m\u001B[0;34m(\u001B[0m\u001B[0mself\u001B[0m\u001B[0;34m,\u001B[0m \u001B[0mnrows\u001B[0m\u001B[0;34m=\u001B[0m\u001B[0;32mNone\u001B[0m\u001B[0;34m)\u001B[0m\u001B[0;34m:\u001B[0m\u001B[0;34m\u001B[0m\u001B[0;34m\u001B[0m\u001B[0m\n\u001B[1;32m   2036\u001B[0m         \u001B[0;32mtry\u001B[0m\u001B[0;34m:\u001B[0m\u001B[0;34m\u001B[0m\u001B[0;34m\u001B[0m\u001B[0m\n\u001B[0;32m-> 2037\u001B[0;31m             \u001B[0mdata\u001B[0m \u001B[0;34m=\u001B[0m \u001B[0mself\u001B[0m\u001B[0;34m.\u001B[0m\u001B[0m_reader\u001B[0m\u001B[0;34m.\u001B[0m\u001B[0mread\u001B[0m\u001B[0;34m(\u001B[0m\u001B[0mnrows\u001B[0m\u001B[0;34m)\u001B[0m\u001B[0;34m\u001B[0m\u001B[0;34m\u001B[0m\u001B[0m\n\u001B[0m\u001B[1;32m   2038\u001B[0m         \u001B[0;32mexcept\u001B[0m \u001B[0mStopIteration\u001B[0m\u001B[0;34m:\u001B[0m\u001B[0;34m\u001B[0m\u001B[0;34m\u001B[0m\u001B[0m\n\u001B[1;32m   2039\u001B[0m             \u001B[0;32mif\u001B[0m \u001B[0mself\u001B[0m\u001B[0;34m.\u001B[0m\u001B[0m_first_chunk\u001B[0m\u001B[0;34m:\u001B[0m\u001B[0;34m\u001B[0m\u001B[0;34m\u001B[0m\u001B[0m\n",
      "\u001B[0;32mpandas/_libs/parsers.pyx\u001B[0m in \u001B[0;36mpandas._libs.parsers.TextReader.read\u001B[0;34m()\u001B[0m\n",
      "\u001B[0;32mpandas/_libs/parsers.pyx\u001B[0m in \u001B[0;36mpandas._libs.parsers.TextReader._read_low_memory\u001B[0;34m()\u001B[0m\n",
      "\u001B[0;32mpandas/_libs/parsers.pyx\u001B[0m in \u001B[0;36mpandas._libs.parsers.TextReader._read_rows\u001B[0;34m()\u001B[0m\n",
      "\u001B[0;32mpandas/_libs/parsers.pyx\u001B[0m in \u001B[0;36mpandas._libs.parsers.TextReader._convert_column_data\u001B[0;34m()\u001B[0m\n",
      "\u001B[0;32mpandas/_libs/parsers.pyx\u001B[0m in \u001B[0;36mpandas._libs.parsers.TextReader._convert_tokens\u001B[0;34m()\u001B[0m\n",
      "\u001B[0;32mpandas/_libs/parsers.pyx\u001B[0m in \u001B[0;36mpandas._libs.parsers.TextReader._convert_with_dtype\u001B[0;34m()\u001B[0m\n",
      "\u001B[0;32mpandas/_libs/parsers.pyx\u001B[0m in \u001B[0;36mpandas._libs.parsers.TextReader._string_convert\u001B[0;34m()\u001B[0m\n",
      "\u001B[0;32mpandas/_libs/parsers.pyx\u001B[0m in \u001B[0;36mpandas._libs.parsers._string_box_utf8\u001B[0;34m()\u001B[0m\n",
      "\u001B[0;31mUnicodeDecodeError\u001B[0m: 'utf-8' codec can't decode byte 0xf3 in position 7: invalid continuation byte"
     ]
    }
   ]
  },
  {
   "cell_type": "markdown",
   "metadata": {
    "colab_type": "text",
    "id": "6TFhcHVVFbhI"
   },
   "source": [
    "Some of you may have experienced a problem already - thats ok! We can deal.\n",
    "<br><br>\n",
    "The problem here is that the dataset is encoded in Latin-1, but Pandas has defaulted to UTF-8 encoding. Bad, pandas! But it's ok, you can correct for this by specifying the encoding in your command. <br><br>\n",
    "*Pro tip:* If you're having trouble, try Googling your error messages. You are probably not the first to encounter any particular error."
   ]
  },
  {
   "cell_type": "code",
   "metadata": {
    "colab_type": "code",
    "id": "kXmLvm0gFbhJ",
    "colab": {}
   },
   "source": [
    "df = pd.read_csv(\"./Crunchbase_Startup_Investment_Data.csv\", encoding='latin1')\n",
    "\n"
   ],
   "execution_count": 2,
   "outputs": []
  },
  {
   "cell_type": "markdown",
   "metadata": {
    "colab_type": "text",
    "id": "cAh6GX0DFbhM"
   },
   "source": [
    "Now that we have successfully imported the data, let's do some Exploratory Data Analysis! \n",
    "\n",
    "**Exercise:**<br>\n",
    "Let's begin by displaying the first 5 rows of each column. <br>(*Hint: there is a special command for this!*)"
   ]
  },
  {
   "cell_type": "code",
   "metadata": {
    "colab_type": "code",
    "id": "1NyRT2qCFbhO",
    "colab": {}
   },
   "source": [
    "print(df.head())\n"
   ],
   "execution_count": 3,
   "outputs": [
    {
     "name": "stdout",
     "output_type": "stream",
     "text": [
      "                     company_permalink           company_name  \\\n",
      "0  /organization/andrewburnett-com-ltd  AndrewBurnett.com Ltd   \n",
      "1               /organization/abo-data               ABO Data   \n",
      "2               /organization/abo-data               ABO Data   \n",
      "3                   /organization/ikro                   Ikro   \n",
      "4               /organization/indelsul               Indelsul   \n",
      "\n",
      "                               company_category_list       company_market  \\\n",
      "0  |Internet|SEO|Services|Public Relations|Social...             Internet   \n",
      "1                              |Enterprise Software|  Enterprise Software   \n",
      "2                              |Enterprise Software|  Enterprise Software   \n",
      "3                                                NaN                  NaN   \n",
      "4                                                NaN                  NaN   \n",
      "\n",
      "  company_country_code company_state_code company_region company_city  \\\n",
      "0                  GBR                NaN      Edinburgh    Edinburgh   \n",
      "1                  USA                 TX     TX - Other        Italy   \n",
      "2                  USA                 TX     TX - Other        Italy   \n",
      "3                  BRA                NaN    BRA - Other       Canoas   \n",
      "4                  NaN                NaN            NaN          NaN   \n",
      "\n",
      "                             investor_permalink  \\\n",
      "0                            /organization/ekaf   \n",
      "1                       /person/antonio-murroni   \n",
      "2                       /person/filippo-murroni   \n",
      "3  /organization/crp-companhia-de-participacoes   \n",
      "4  /organization/crp-companhia-de-participacoes   \n",
      "\n",
      "                      investor_name  ... investor_city  \\\n",
      "0                              Ekaf  ...           NaN   \n",
      "1                   ANTONIO MURRONI  ...           NaN   \n",
      "2                   FILIPPO Murroni  ...           NaN   \n",
      "3  CRP Companhia de Participac?o?es  ...           NaN   \n",
      "4  CRP Companhia de Participac?o?es  ...           NaN   \n",
      "\n",
      "                           funding_round_permalink funding_round_type  \\\n",
      "0  /funding-round/14fe2864e02d0f15ddc3ec8eacdc8e1b               seed   \n",
      "1  /funding-round/809e211b969c3f66440fc15ffcd29385               seed   \n",
      "2  /funding-round/809e211b969c3f66440fc15ffcd29385               seed   \n",
      "3  /funding-round/46c353a8249170cc4b6ab89a522fefdc            venture   \n",
      "4  /funding-round/48e8db0d90f95934831603622cb3f46a            venture   \n",
      "\n",
      "  funding_round_code   funded_at funded_month funded_quarter funded_year  \\\n",
      "0                NaN  1974-01-01      1974-01        1974-Q1        1974   \n",
      "1                NaN  1979-01-01      1979-01        1979-Q1        1979   \n",
      "2                NaN  1979-01-01      1979-01        1979-Q1        1979   \n",
      "3                  A  1982-06-01      1982-06        1982-Q2        1982   \n",
      "4                  A  1982-12-01      1982-12        1982-Q4        1982   \n",
      "\n",
      "  raised_amount_total_usd raised_amount_each  \n",
      "0                     NaN               -     \n",
      "1              1,000,000             #DIV/0!  \n",
      "2              1,000,000             #DIV/0!  \n",
      "3                724,000             #DIV/0!  \n",
      "4                165,000             #DIV/0!  \n",
      "\n",
      "[5 rows x 25 columns]\n"
     ]
    }
   ]
  },
  {
   "cell_type": "markdown",
   "metadata": {
    "colab_type": "text",
    "id": "8CzgyRDxFbhT"
   },
   "source": [
    "**Question:**<br>\n",
    "How many columns are in this dataset? How many rows?"
   ]
  },
  {
   "cell_type": "code",
   "metadata": {
    "colab_type": "code",
    "id": "laPNW9a5FbhU",
    "colab": {}
   },
   "source": [
    "print(\"N of rows\", len(df))\n",
    "print(\"N of columns\", len(df.columns))\n",
    "print(df.info())"
   ],
   "execution_count": 7,
   "outputs": [
    {
     "name": "stdout",
     "output_type": "stream",
     "text": [
      "N of rows 114505\n",
      "N of columns 25\n",
      "<class 'pandas.core.frame.DataFrame'>\n",
      "RangeIndex: 114505 entries, 0 to 114504\n",
      "Data columns (total 25 columns):\n",
      " #   Column                   Non-Null Count   Dtype \n",
      "---  ------                   --------------   ----- \n",
      " 0   company_permalink        114505 non-null  object\n",
      " 1   company_name             114504 non-null  object\n",
      " 2   company_category_list    111242 non-null  object\n",
      " 3   company_market           111240 non-null  object\n",
      " 4   company_country_code     107146 non-null  object\n",
      " 5   company_state_code       79158 non-null   object\n",
      " 6   company_region           107146 non-null  object\n",
      " 7   company_city             105800 non-null  object\n",
      " 8   investor_permalink       114439 non-null  object\n",
      " 9   investor_name            114439 non-null  object\n",
      " 10  investor_category_list   30507 non-null   object\n",
      " 11  investor_market          30455 non-null   object\n",
      " 12  investor_country_code    86521 non-null   object\n",
      " 13  investor_state_code      62274 non-null   object\n",
      " 14  investor_region          86521 non-null   object\n",
      " 15  investor_city            86007 non-null   object\n",
      " 16  funding_round_permalink  114505 non-null  object\n",
      " 17  funding_round_type       114505 non-null  object\n",
      " 18  funding_round_code       54669 non-null   object\n",
      " 19  funded_at                114505 non-null  object\n",
      " 20  funded_month             114505 non-null  object\n",
      " 21  funded_quarter           114505 non-null  object\n",
      " 22  funded_year              114505 non-null  int64 \n",
      " 23  raised_amount_total_usd  101154 non-null  object\n",
      " 24  raised_amount_each       114505 non-null  object\n",
      "dtypes: int64(1), object(24)\n",
      "memory usage: 21.8+ MB\n",
      "None\n"
     ]
    }
   ]
  },
  {
   "cell_type": "markdown",
   "metadata": {
    "colab_type": "text",
    "id": "WZSTCh8WFbhZ"
   },
   "source": [
    "**Exercise:**<br>\n",
    "You'll probably notice that the command above actually truncates the number of columns it shows. This is to make display\n",
    " easier. However, we will definitely want to see each of the column names so that we know what kinds of data are available to us.\n",
    "  Try pulling out all of the column names."
   ]
  },
  {
   "cell_type": "code",
   "metadata": {
    "colab_type": "code",
    "id": "IbduZJmkFbha",
    "colab": {}
   },
   "source": [
    "for col in df.columns:\n",
    "    print(col)"
   ],
   "execution_count": 8,
   "outputs": [
    {
     "name": "stdout",
     "output_type": "stream",
     "text": [
      "company_permalink\n",
      "company_name\n",
      "company_category_list\n",
      "company_market\n",
      "company_country_code\n",
      "company_state_code\n",
      "company_region\n",
      "company_city\n",
      "investor_permalink\n",
      "investor_name\n",
      "investor_category_list\n",
      "investor_market\n",
      "investor_country_code\n",
      "investor_state_code\n",
      "investor_region\n",
      "investor_city\n",
      "funding_round_permalink\n",
      "funding_round_type\n",
      "funding_round_code\n",
      "funded_at\n",
      "funded_month\n",
      "funded_quarter\n",
      "funded_year\n",
      "raised_amount_total_usd\n",
      "raised_amount_each\n"
     ]
    }
   ]
  },
  {
   "cell_type": "markdown",
   "metadata": {
    "colab_type": "text",
    "id": "UaaweiK-Fbhe"
   },
   "source": [
    "**Question:**<br>\n",
    "What are the data types in each column?"
   ]
  },
  {
   "cell_type": "code",
   "metadata": {
    "colab_type": "code",
    "id": "IdltHuv2Fbhe",
    "scrolled": true,
    "colab": {}
   },
   "source": [
    "print(df.dtypes)\n"
   ],
   "execution_count": 9,
   "outputs": [
    {
     "name": "stdout",
     "output_type": "stream",
     "text": [
      "company_permalink          object\n",
      "company_name               object\n",
      "company_category_list      object\n",
      "company_market             object\n",
      "company_country_code       object\n",
      "company_state_code         object\n",
      "company_region             object\n",
      "company_city               object\n",
      "investor_permalink         object\n",
      "investor_name              object\n",
      "investor_category_list     object\n",
      "investor_market            object\n",
      "investor_country_code      object\n",
      "investor_state_code        object\n",
      "investor_region            object\n",
      "investor_city              object\n",
      "funding_round_permalink    object\n",
      "funding_round_type         object\n",
      "funding_round_code         object\n",
      "funded_at                  object\n",
      "funded_month               object\n",
      "funded_quarter             object\n",
      "funded_year                 int64\n",
      "raised_amount_total_usd    object\n",
      "raised_amount_each         object\n",
      "dtype: object\n"
     ]
    }
   ]
  },
  {
   "cell_type": "markdown",
   "metadata": {
    "colab_type": "text",
    "id": "eTNbnBtPFbhk"
   },
   "source": [
    "One of the inevitable frustrations in working with large datasets is that they can be messy. Often, values can be missing.\n",
    "Values might be missing because they don't apply, or simply because they got lost in the shuffle\n",
    " (e.g. wasn't recorded, data was corrupted, etc.)\n",
    " Missing values can take different forms in different datasets -\n",
    "  and sometimes even multiple forms!\n",
    "  One typical form is NaN, which is an acronym for Not A Number. <br><br>\n",
    "**Question:**<br>\n",
    "How many NaN's appear in each column? How many total across columns?"
   ]
  },
  {
   "cell_type": "code",
   "metadata": {
    "colab_type": "code",
    "id": "A2slm7OHFbhm",
    "colab": {}
   },
   "source": [
    "print(\"Nans in columns\", df.isna().sum())\n",
    "print(\"Nans in rows\", df.isnull().sum(axis=1))"
   ],
   "execution_count": 11,
   "outputs": [
    {
     "name": "stdout",
     "output_type": "stream",
     "text": [
      "company_permalink              0\n",
      "company_name                   1\n",
      "company_category_list       3263\n",
      "company_market              3265\n",
      "company_country_code        7359\n",
      "company_state_code         35347\n",
      "company_region              7359\n",
      "company_city                8705\n",
      "investor_permalink            66\n",
      "investor_name                 66\n",
      "investor_category_list     83998\n",
      "investor_market            84050\n",
      "investor_country_code      27984\n",
      "investor_state_code        52231\n",
      "investor_region            27984\n",
      "investor_city              28498\n",
      "funding_round_permalink        0\n",
      "funding_round_type             0\n",
      "funding_round_code         59836\n",
      "funded_at                      0\n",
      "funded_month                   0\n",
      "funded_quarter                 0\n",
      "funded_year                    0\n",
      "raised_amount_total_usd    13351\n",
      "raised_amount_each             0\n",
      "dtype: int64\n",
      "0          9\n",
      "1          7\n",
      "2          7\n",
      "3          9\n",
      "4         12\n",
      "          ..\n",
      "114500     2\n",
      "114501     9\n",
      "114502     6\n",
      "114503     6\n",
      "114504     8\n",
      "Length: 114505, dtype: int64\n"
     ]
    }
   ]
  },
  {
   "cell_type": "markdown",
   "metadata": {
    "colab_type": "text",
    "id": "rMSMEQE0Fbhp"
   },
   "source": [
    "**Exercise:**<br>\n",
    "Let's take a look at all the columns that pertain to the amounts of money each company has raised. How many columns are relevant? Can you pull them all out at once?"
   ]
  },
  {
   "cell_type": "code",
   "metadata": {
    "colab_type": "code",
    "id": "HIPIwfl0Fbhq",
    "scrolled": true,
    "colab": {}
   },
   "source": [
    ""
   ],
   "execution_count": null,
   "outputs": []
  },
  {
   "cell_type": "markdown",
   "metadata": {
    "colab_type": "text",
    "id": "txuuFZLMFbht"
   },
   "source": [
    "\n",
    "One of the first things that you should notice is that the column 'raised_amount_each' is completely useless. This kind of thing is another unfortunate consequence of large datasets - they can be messy, and sometimes data doesn't get filled in correctly. \n",
    "\n",
    "Luckily, there is another column that can help us out here. Let's take a look at 'raised_amount_total_usd'.\n",
    "\n",
    "You've probably noticed that some rows contain numbers, while others contain NaN's.\n",
    "\n",
    "**Question:**<br>\n",
    "How many rows contain numbers?"
   ]
  },
  {
   "cell_type": "code",
   "metadata": {
    "colab_type": "code",
    "id": "pCqR3C4uFbhu",
    "scrolled": true,
    "colab": {}
   },
   "source": [
    ""
   ],
   "execution_count": null,
   "outputs": []
  },
  {
   "cell_type": "markdown",
   "metadata": {
    "colab_type": "text",
    "id": "MR93DbFgFbhx"
   },
   "source": [
    "**Question:**<br>\n",
    "How much money in total was raised across every company in this dataset?"
   ]
  },
  {
   "cell_type": "code",
   "metadata": {
    "colab_type": "code",
    "id": "FMIEZsk3Fbhz",
    "scrolled": true,
    "colab": {}
   },
   "source": [
    ""
   ],
   "execution_count": null,
   "outputs": []
  },
  {
   "cell_type": "markdown",
   "metadata": {
    "colab_type": "text",
    "id": "YZ-_kvf_Fbh3"
   },
   "source": [
    "Did you get an error? Oh noooooo! Can you piece together what happened from the TypeError? What type of data appears in that column? What can you do to remedy it?\n",
    "\n",
    "(*Hint: you'll need to convert these values, but this may be a 2-step process. You may need to remove certain elements first.*)"
   ]
  },
  {
   "cell_type": "code",
   "metadata": {
    "colab_type": "code",
    "id": "eSBheM0WFbh5",
    "colab": {}
   },
   "source": [
    ""
   ],
   "execution_count": null,
   "outputs": []
  },
  {
   "cell_type": "markdown",
   "metadata": {
    "colab_type": "text",
    "id": "ymXIuVRTFbiA"
   },
   "source": [
    "Ok, whew! Now that THAT'S done, we can return to our question.\n",
    "\n",
    "**Question:**<br>\n",
    "How much money in total was raised across every company in this dataset?"
   ]
  },
  {
   "cell_type": "code",
   "metadata": {
    "colab_type": "code",
    "id": "m-0zlLeLFbiC",
    "colab": {}
   },
   "source": [
    ""
   ],
   "execution_count": null,
   "outputs": []
  },
  {
   "cell_type": "markdown",
   "metadata": {
    "colab_type": "text",
    "id": "ULh6LgubFbiK"
   },
   "source": [
    "WOW! That's a lot of moola!! Does it make you want to start a business?? Let's pretend you said 'yes'. And, since you're no dummy, I'm sure you would do the appropriate market research before crafting a business model. \n",
    "\n",
    "**Question**:<br>\n",
    "How many unique types of company markets are there? What are they?"
   ]
  },
  {
   "cell_type": "code",
   "metadata": {
    "colab_type": "code",
    "id": "abBXnUOyFbiM",
    "colab": {}
   },
   "source": [
    ""
   ],
   "execution_count": null,
   "outputs": []
  },
  {
   "cell_type": "markdown",
   "metadata": {
    "colab_type": "text",
    "id": "JgBdjFaIFbiU"
   },
   "source": [
    "As I'm sure you've guessed, not all of these markets received an equal share of investment money. Let's try breaking investment down by different markets!\n",
    "\n",
    "**Question:**<br>\n",
    "How much money was invested in each company market?\n",
    "\n",
    "(*Hint: You'll need to **group** the data **by** market type...*)"
   ]
  },
  {
   "cell_type": "code",
   "metadata": {
    "id": "cO-jFacjNffP",
    "colab_type": "code",
    "colab": {}
   },
   "source": [
    ""
   ],
   "execution_count": null,
   "outputs": []
  },
  {
   "cell_type": "markdown",
   "metadata": {
    "id": "c8nAO0kKNffR",
    "colab_type": "text"
   },
   "source": [
    "It's good to know how much investment each market saw, but we need a bit more organization here. We don't want to build our startup in just ANY market, we want the HOTTEST market!\n",
    "\n",
    "**Question:**<br>\n",
    "Which company markets received the most investment money? Find the top 10."
   ]
  },
  {
   "cell_type": "code",
   "metadata": {
    "colab_type": "code",
    "id": "nCgsvj2kFbiV",
    "colab": {}
   },
   "source": [
    ""
   ],
   "execution_count": null,
   "outputs": []
  },
  {
   "cell_type": "markdown",
   "metadata": {
    "colab_type": "text",
    "id": "lpLIlLWWFbic"
   },
   "source": [
    "**Question:**<br>\n",
    "Which company markets received no investment money? Can you find the bottom 3 markets to recieve at least SOME investment money (aka more than $0)?"
   ]
  },
  {
   "cell_type": "code",
   "metadata": {
    "colab_type": "code",
    "id": "QAT5iKHuFbig",
    "colab": {}
   },
   "source": [
    ""
   ],
   "execution_count": null,
   "outputs": []
  },
  {
   "cell_type": "markdown",
   "metadata": {
    "id": "FCvs42GUSmsV",
    "colab_type": "text"
   },
   "source": [
    "Fantastic work! Now we know which company markets to avoid, and which to pursue. \n",
    "\n",
    "Next, we will want to narrow down WHERE to build our startup. After all, funding can change based on where our business is located!\n",
    "\n",
    "**Question:**<br>\n",
    "In which countries did startups in the top market recieve the most funding?"
   ]
  },
  {
   "cell_type": "code",
   "metadata": {
    "id": "SB32r4dvNffY",
    "colab_type": "code",
    "colab": {}
   },
   "source": [
    ""
   ],
   "execution_count": null,
   "outputs": []
  },
  {
   "cell_type": "markdown",
   "metadata": {
    "id": "H4Q-ALMHNffa",
    "colab_type": "text"
   },
   "source": [
    "Woohoo! Go USA! But should we start our business in Maine? In Florida? In Washington state? Let's try narrowing it down even further.\n",
    "\n",
    "**Question:**<br>\n",
    "Which state of the top country in the top company market recieved the most investment funding?"
   ]
  },
  {
   "cell_type": "code",
   "metadata": {
    "id": "UuHTXe-aNffa",
    "colab_type": "code",
    "colab": {}
   },
   "source": [
    ""
   ],
   "execution_count": null,
   "outputs": []
  },
  {
   "cell_type": "markdown",
   "metadata": {
    "id": "FbTPT0dtNffc",
    "colab_type": "text"
   },
   "source": [
    "Great! Now let's zoom in even further! \n",
    "\n",
    "**Quesiton:**<br>\n",
    "How about the cities in the top state?"
   ]
  },
  {
   "cell_type": "code",
   "metadata": {
    "id": "ylcqaiysNffc",
    "colab_type": "code",
    "colab": {}
   },
   "source": [
    ""
   ],
   "execution_count": null,
   "outputs": []
  },
  {
   "cell_type": "markdown",
   "metadata": {
    "id": "bS0jq5zQNffe",
    "colab_type": "text"
   },
   "source": [
    "Are you surprised by the city? It turns out that our cofounder, Investra Q. McMoney, **hates** the hot weather. But maybe there are other cities that would be good candidates for our startup... \n",
    "\n",
    "**Question:**<br>\n",
    "What are the top 5 cities in the USA for biotechnology company market investment funding?"
   ]
  },
  {
   "cell_type": "code",
   "metadata": {
    "scrolled": true,
    "id": "XPm0BWCfNffe",
    "colab_type": "code",
    "colab": {}
   },
   "source": [
    ""
   ],
   "execution_count": null,
   "outputs": []
  },
  {
   "cell_type": "markdown",
   "metadata": {
    "id": "A-SbfrjNNffh",
    "colab_type": "text"
   },
   "source": [
    "Fantastic! Looks like we have at least a few locations to scout!\n",
    "\n",
    "In the meantime, we should consider the sources of funding. With that in mind, let's turn our attention to investor markets.\n",
    "\n",
    "**Question:**<br>\n",
    "Which investor markets raised the most money?"
   ]
  },
  {
   "cell_type": "code",
   "metadata": {
    "scrolled": true,
    "id": "tCEmnhHcNffh",
    "colab_type": "code",
    "colab": {}
   },
   "source": [
    ""
   ],
   "execution_count": null,
   "outputs": []
  },
  {
   "cell_type": "markdown",
   "metadata": {
    "id": "JBoSsworNffj",
    "colab_type": "text"
   },
   "source": [
    "Are you surprised? How do you interpret the difference between company market investment and investment market investment? Why wouldn't these numbers be the same? Interpreting these types of apparent mis-matches is super important, especially when it comes to generating actionable insights.\n",
    "\n",
    "But we should go deeper here. Let's look at this data over time, shall we?\n",
    "\n",
    "**Question:**<br>\n",
    "What is the earliest year for which we have funding data?\n",
    "What is the latest year?"
   ]
  },
  {
   "cell_type": "code",
   "metadata": {
    "id": "BE5f-mb5Nffj",
    "colab_type": "code",
    "colab": {}
   },
   "source": [
    ""
   ],
   "execution_count": null,
   "outputs": []
  },
  {
   "cell_type": "markdown",
   "metadata": {
    "id": "DCXz0EX3Nffl",
    "colab_type": "text"
   },
   "source": [
    "Let's take a look at how the investor market has changed over time. We don't want to get ourselves ensnared in a bubble!\n",
    "\n",
    "**Question:**<br>\n",
    "What investor market raised the most money in the earliest year for which we have data?"
   ]
  },
  {
   "cell_type": "code",
   "metadata": {
    "scrolled": true,
    "id": "pOOgNhu8Nffl",
    "colab_type": "code",
    "colab": {}
   },
   "source": [
    ""
   ],
   "execution_count": null,
   "outputs": []
  },
  {
   "cell_type": "markdown",
   "metadata": {
    "id": "UuPa5ksFNffn",
    "colab_type": "text"
   },
   "source": [
    "Did you get any results? Wny not? Try to troubleshoot.\n",
    "\n",
    "This is another problem with big datasets. Sometimes they can be sparser than they appear.\n",
    "\n",
    "Any one particular year, especially earlier years in this dataset, may not have much representation in this dataset. One way to approach this problem, then, is to look at investor markets using larger temporal windows.\n",
    "\n",
    "**Exercise:**\n",
    "Look at money raised in different investor markets over larger windows of time. How have the investor markets changed over time? What used to be hot? Whats hot now?"
   ]
  },
  {
   "cell_type": "code",
   "metadata": {
    "id": "CaEUn59HNffn",
    "colab_type": "code",
    "colab": {}
   },
   "source": [
    ""
   ],
   "execution_count": null,
   "outputs": []
  },
  {
   "cell_type": "markdown",
   "metadata": {
    "id": "a8bqGkM3Nffp",
    "colab_type": "text"
   },
   "source": [
    "Looks like some investor markets have changed, but others are very consistent!\n",
    "\n",
    "**Exercise:**<br>\n",
    "How does the investor market compare to company markets for these same windows of time?"
   ]
  },
  {
   "cell_type": "code",
   "metadata": {
    "id": "emvzAXhCNffq",
    "colab_type": "code",
    "colab": {}
   },
   "source": [
    ""
   ],
   "execution_count": null,
   "outputs": []
  },
  {
   "cell_type": "markdown",
   "metadata": {
    "id": "M5mw8S4xNffr",
    "colab_type": "text"
   },
   "source": [
    "Congratulations, smarties! You've made it to the end of this introduction to Pandas!\n",
    "\n",
    "But this is really only where exploratory data analysis begins. The next step in EDA is data visualization. Try to come up with different data visualizations for these data. Data viz can often shed light on some surprising aspects of your data, and can inspire whole new analyses that you might not have otherwise expected.\n",
    "\n",
    "\n",
    "Here are some ideas for data stories you can tell using visualizatitons:<br>\n",
    "* Try plotting a time series of funding by company or investor market. \n",
    "* Which industries are receiving the most funding?<br> \n",
    "* Are there differences in the funding structures of different industries?<br>\n",
    "* What is the geographical distribution of funding?<br>\n",
    "* How has startup funding changed over time?<br>\n"
   ]
  },
  {
   "cell_type": "code",
   "metadata": {
    "id": "syFWWnd8Nffs",
    "colab_type": "code",
    "colab": {}
   },
   "source": [
    ""
   ],
   "execution_count": null,
   "outputs": []
  },
  {
   "cell_type": "markdown",
   "metadata": {
    "id": "0Tv6m7qKNfft",
    "colab_type": "text"
   },
   "source": [
    "But EDA is really only the jumping off point for real Data Science. The bread and butter of DS is data analysis, to which none of you are strangers. Try your hand at some analysis! Begin by importing some additional libraries. What kind of machine learning algorithms can you apply? Think carefully about why you would user one ML technique over another. This is a critical skill: companies will care about how you think about data. Your advanced degree is a big leg-up here: you've had experience thinking deeply about complex problems and the appropriaite analyses to apply to them. What can you come up with?\n",
    "\n",
    "\n",
    "Here are some ideas of analyses or avenues of investigation:\n",
    "* How does early round funding impact the future success of a company?\n",
    "* Does goegraphical location affect the funding or future success of a company?\n",
    "* How significant are the results?\n",
    "* Does it qualitatively make sense?\n"
   ]
  },
  {
   "cell_type": "code",
   "metadata": {
    "id": "q2iFhnJ-Nffu",
    "colab_type": "code",
    "colab": {}
   },
   "source": [
    ""
   ],
   "execution_count": null,
   "outputs": []
  },
  {
   "cell_type": "markdown",
   "metadata": {
    "id": "q2D24Vl8Nffv",
    "colab_type": "text"
   },
   "source": [
    "Discuss these topics with your fellow Fellows on the Platform:\n",
    "* Why are your results interesting?\n",
    "* Could you imagine a useful product on top of this?\n",
    "* From a technical point-of-view, what was challenging about dealing with this dataset?\n",
    "* What were the hardest points or roadblocks along the way?\n",
    "* Are there any secondary data sources you can call upon to gain further insight?\n",
    "* Where did you make wrong turns?\n",
    "* What aspects of analysis did you get stuck on?\n",
    "* How would you approach your workflow differently?\n",
    "* Could task sharing or communication be streamlined?\n"
   ]
  },
  {
   "cell_type": "code",
   "metadata": {
    "id": "UQDImWafNffv",
    "colab_type": "code",
    "colab": {}
   },
   "source": [
    ""
   ],
   "execution_count": null,
   "outputs": []
  }
 ]
}